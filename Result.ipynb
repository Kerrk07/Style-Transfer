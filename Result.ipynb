{
 "cells": [
  {
   "cell_type": "markdown",
   "id": "3195c417-a1cd-49e8-91f3-198912e3c3d5",
   "metadata": {},
   "source": [
    "# Training Results"
   ]
  },
  {
   "cell_type": "code",
   "execution_count": 1,
   "id": "5c30f3c7-5341-4ef0-b640-febaa7caf845",
   "metadata": {},
   "outputs": [],
   "source": [
    "# customized function for parsing training results\n",
    "def parser(dir_path):\n",
    "    return None"
   ]
  },
  {
   "cell_type": "code",
   "execution_count": null,
   "id": "aa0215f9-e3a0-489c-9ae1-7c0657dc61ee",
   "metadata": {},
   "outputs": [],
   "source": []
  }
 ],
 "metadata": {
  "kernelspec": {
   "display_name": "Python 3 (ipykernel)",
   "language": "python",
   "name": "python3"
  },
  "language_info": {
   "codemirror_mode": {
    "name": "ipython",
    "version": 3
   },
   "file_extension": ".py",
   "mimetype": "text/x-python",
   "name": "python",
   "nbconvert_exporter": "python",
   "pygments_lexer": "ipython3",
   "version": "3.9.18"
  }
 },
 "nbformat": 4,
 "nbformat_minor": 5
}
