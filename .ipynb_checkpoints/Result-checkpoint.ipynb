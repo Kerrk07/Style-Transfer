{
 "cells": [
  {
   "cell_type": "markdown",
   "id": "3195c417-a1cd-49e8-91f3-198912e3c3d5",
   "metadata": {},
   "source": [
    "# Training Results"
   ]
  },
  {
   "cell_type": "code",
   "execution_count": null,
   "id": "af3f1c25-a7c8-479e-9458-62f1af3b6ddf",
   "metadata": {},
   "outputs": [],
   "source": [
    "# import relevant packages\n",
    "import re \n",
    "import pandas as pd\n",
    "import matplotlib.pyplot as plt"
   ]
  },
  {
   "cell_type": "code",
   "execution_count": 1,
   "id": "5c30f3c7-5341-4ef0-b640-febaa7caf845",
   "metadata": {},
   "outputs": [],
   "source": [
    "def parser(file_path):\n",
    "    \"\"\"\n",
    "    Parses a CycleGAN-style training log file and returns a DataFrame containing\n",
    "    only the last recorded result for each epoch. Also aggregates total time per epoch.\n",
    "\n",
    "    Parameters:\n",
    "    -----------\n",
    "    file_path : str\n",
    "        Path to the training log text file.\n",
    "\n",
    "    Returns:\n",
    "    --------\n",
    "    pd.DataFrame\n",
    "        A DataFrame with one row per epoch, each representing the final log entry\n",
    "        of that epoch, with total computation time for the epoch.\n",
    "        Columns include:\n",
    "            - epoch (int)\n",
    "            - iters (int)\n",
    "            - time (float): total computation time for the epoch\n",
    "            - data (float): from last iteration\n",
    "            - D_A, G_A, cycle_A, idt_A (floats): loss values for domain A\n",
    "            - D_B, G_B, cycle_B, idt_B (floats): loss values for domain B\n",
    "    \"\"\"\n",
    "    pattern = re.compile(\n",
    "        r\"\\(epoch: (\\d+), iters: (\\d+), time: ([\\d.]+), data: ([\\d.]+)\\)\\s+\"\n",
    "        r\"D_A: ([\\d.]+) G_A: ([\\d.]+) cycle_A: ([\\d.]+) idt_A: ([\\d.]+) \"\n",
    "        r\"D_B: ([\\d.]+) G_B: ([\\d.]+) cycle_B: ([\\d.]+) idt_B: ([\\d.]+)\"\n",
    "    )\n",
    "    \n",
    "    data = []\n",
    "\n",
    "    with open(file_path, 'r') as f:\n",
    "        for line in f:\n",
    "            match = pattern.search(line)\n",
    "            if match:\n",
    "                values = list(map(float, match.groups()))\n",
    "                row = {\n",
    "                    'epoch': int(values[0]),\n",
    "                    'iters': int(values[1]),\n",
    "                    'time': values[2],\n",
    "                    'data': values[3],\n",
    "                    'D_A': values[4],\n",
    "                    'G_A': values[5],\n",
    "                    'cycle_A': values[6],\n",
    "                    'idt_A': values[7],\n",
    "                    'D_B': values[8],\n",
    "                    'G_B': values[9],\n",
    "                    'cycle_B': values[10],\n",
    "                    'idt_B': values[11],\n",
    "                }\n",
    "                data.append(row)\n",
    "\n",
    "    df = pd.DataFrame(data)\n",
    "\n",
    "    if not df.empty:\n",
    "        # Total training time per epoch\n",
    "        time_per_epoch = df.groupby('epoch')['time'].sum().reset_index(name='total_time')\n",
    "\n",
    "        # Keep last record per epoch\n",
    "        df_last = df.sort_values(['epoch', 'iters']).groupby('epoch', as_index=False).last()\n",
    "\n",
    "        # Merge total training time into last-row DataFrame\n",
    "        df = pd.merge(df_last, time_per_epoch, on='epoch')\n",
    "        df = df.drop(columns=['time'])  # remove original time, keep total_time\n",
    "\n",
    "    return df"
   ]
  },
  {
   "cell_type": "code",
   "execution_count": null,
   "id": "efa6d89b-aca7-4880-bdb9-15e629fbcb21",
   "metadata": {},
   "outputs": [],
   "source": [
    "def loss_plot(df):\n",
    "    \"\"\"\n",
    "    Plots line graphs for all loss metrics in the given DataFrame\n",
    "    and prints the total training time.\n",
    "\n",
    "    Parameters:\n",
    "    -----------\n",
    "    df : pd.DataFrame\n",
    "        DataFrame returned from `parser`, containing training logs\n",
    "        with loss metrics and 'total_time' per epoch.\n",
    "\n",
    "    Returns:\n",
    "    --------\n",
    "    None\n",
    "    \"\"\"\n",
    "    # Columns to exclude from plotting\n",
    "    exclude = {'epoch', 'iters', 'data', 'total_time'}\n",
    "\n",
    "    # Loss columns only\n",
    "    loss_columns = [col for col in df.columns if col not in exclude]\n",
    "\n",
    "    # Plot\n",
    "    plt.figure(figsize=(12, 6))\n",
    "    for col in loss_columns:\n",
    "        plt.plot(df['epoch'], df[col], marker='o', label=col)\n",
    "\n",
    "    plt.xlabel('Epoch')\n",
    "    plt.ylabel('Loss Value')\n",
    "    plt.title('Training Loss Metrics Per Epoch')\n",
    "    plt.legend()\n",
    "    plt.grid(True)\n",
    "    plt.tight_layout()\n",
    "    plt.show()\n",
    "\n",
    "    # Compute and print total training time\n",
    "    total_time = df['total_time'].sum()\n",
    "    print(f\"🕒 Total training time (summed over all epochs): {total_time:.2f} seconds\")\n"
   ]
  },
  {
   "cell_type": "markdown",
   "id": "667bc96a-4e4b-470b-9bfb-a5c794533b3c",
   "metadata": {},
   "source": [
    "## Vangogh2Face"
   ]
  },
  {
   "cell_type": "markdown",
   "id": "d15c76dc-f7ba-4c0e-8772-63ef46fd824b",
   "metadata": {},
   "source": [
    "**Training Loss**"
   ]
  },
  {
   "cell_type": "code",
   "execution_count": null,
   "id": "41838998-2a27-4107-95de-7c42b8a87327",
   "metadata": {},
   "outputs": [],
   "source": [
    "vangogh_path = 'checkpoints/vangogh2face/loss_log.txt'"
   ]
  }
 ],
 "metadata": {
  "kernelspec": {
   "display_name": "Python 3 (ipykernel)",
   "language": "python",
   "name": "python3"
  },
  "language_info": {
   "codemirror_mode": {
    "name": "ipython",
    "version": 3
   },
   "file_extension": ".py",
   "mimetype": "text/x-python",
   "name": "python",
   "nbconvert_exporter": "python",
   "pygments_lexer": "ipython3",
   "version": "3.9.18"
  }
 },
 "nbformat": 4,
 "nbformat_minor": 5
}
